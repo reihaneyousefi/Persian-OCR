{
  "cells": [
    {
      "cell_type": "code",
      "execution_count": 1,
      "metadata": {
        "colab": {
          "base_uri": "https://localhost:8080/"
        },
        "id": "XXAqg-_9jaXS",
        "outputId": "29a11c0d-2e1e-4e20-b32a-645711393b01"
      },
      "outputs": [
        {
          "name": "stdout",
          "output_type": "stream",
          "text": [
            "Reading package lists... Done\n",
            "Building dependency tree... Done\n",
            "Reading state information... Done\n",
            "The following additional packages will be installed:\n",
            "  tesseract-ocr-eng tesseract-ocr-osd\n",
            "The following NEW packages will be installed:\n",
            "  tesseract-ocr tesseract-ocr-eng tesseract-ocr-osd\n",
            "0 upgraded, 3 newly installed, 0 to remove and 19 not upgraded.\n",
            "Need to get 4,816 kB of archives.\n",
            "After this operation, 15.6 MB of additional disk space will be used.\n",
            "Get:1 http://archive.ubuntu.com/ubuntu jammy/universe amd64 tesseract-ocr-eng all 1:4.00~git30-7274cfa-1.1 [1,591 kB]\n",
            "Get:2 http://archive.ubuntu.com/ubuntu jammy/universe amd64 tesseract-ocr-osd all 1:4.00~git30-7274cfa-1.1 [2,990 kB]\n",
            "Get:3 http://archive.ubuntu.com/ubuntu jammy/universe amd64 tesseract-ocr amd64 4.1.1-2.1build1 [236 kB]\n",
            "Fetched 4,816 kB in 1s (5,515 kB/s)\n",
            "debconf: unable to initialize frontend: Dialog\n",
            "debconf: (No usable dialog-like program is installed, so the dialog based frontend cannot be used. at /usr/share/perl5/Debconf/FrontEnd/Dialog.pm line 78, <> line 3.)\n",
            "debconf: falling back to frontend: Readline\n",
            "debconf: unable to initialize frontend: Readline\n",
            "debconf: (This frontend requires a controlling tty.)\n",
            "debconf: falling back to frontend: Teletype\n",
            "dpkg-preconfigure: unable to re-open stdin: \n",
            "Selecting previously unselected package tesseract-ocr-eng.\n",
            "(Reading database ... 120874 files and directories currently installed.)\n",
            "Preparing to unpack .../tesseract-ocr-eng_1%3a4.00~git30-7274cfa-1.1_all.deb ...\n",
            "Unpacking tesseract-ocr-eng (1:4.00~git30-7274cfa-1.1) ...\n",
            "Selecting previously unselected package tesseract-ocr-osd.\n",
            "Preparing to unpack .../tesseract-ocr-osd_1%3a4.00~git30-7274cfa-1.1_all.deb ...\n",
            "Unpacking tesseract-ocr-osd (1:4.00~git30-7274cfa-1.1) ...\n",
            "Selecting previously unselected package tesseract-ocr.\n",
            "Preparing to unpack .../tesseract-ocr_4.1.1-2.1build1_amd64.deb ...\n",
            "Unpacking tesseract-ocr (4.1.1-2.1build1) ...\n",
            "Setting up tesseract-ocr-eng (1:4.00~git30-7274cfa-1.1) ...\n",
            "Setting up tesseract-ocr-osd (1:4.00~git30-7274cfa-1.1) ...\n",
            "Setting up tesseract-ocr (4.1.1-2.1build1) ...\n",
            "Processing triggers for man-db (2.10.2-1) ...\n",
            "Collecting pytesseract\n",
            "  Downloading pytesseract-0.3.10-py3-none-any.whl (14 kB)\n",
            "Requirement already satisfied: packaging>=21.3 in /usr/local/lib/python3.10/dist-packages (from pytesseract) (23.2)\n",
            "Requirement already satisfied: Pillow>=8.0.0 in /usr/local/lib/python3.10/dist-packages (from pytesseract) (9.4.0)\n",
            "Installing collected packages: pytesseract\n",
            "Successfully installed pytesseract-0.3.10\n"
          ]
        }
      ],
      "source": [
        "!sudo apt install tesseract-ocr\n",
        "!pip install pytesseract"
      ]
    },
    {
      "cell_type": "code",
      "execution_count": 2,
      "metadata": {
        "colab": {
          "base_uri": "https://localhost:8080/"
        },
        "id": "9PpfiUWRkVGP",
        "outputId": "44556716-9971-4689-f421-8ae8277732cd"
      },
      "outputs": [
        {
          "name": "stdout",
          "output_type": "stream",
          "text": [
            "Reading package lists... Done\n",
            "Building dependency tree... Done\n",
            "Reading state information... Done\n",
            "The following NEW packages will be installed:\n",
            "  tesseract-ocr-fas\n",
            "0 upgraded, 1 newly installed, 0 to remove and 19 not upgraded.\n",
            "Need to get 301 kB of archives.\n",
            "After this operation, 446 kB of additional disk space will be used.\n",
            "Get:1 http://archive.ubuntu.com/ubuntu jammy/universe amd64 tesseract-ocr-fas all 1:4.00~git30-7274cfa-1.1 [301 kB]\n",
            "Fetched 301 kB in 1s (587 kB/s)\n",
            "debconf: unable to initialize frontend: Dialog\n",
            "debconf: (No usable dialog-like program is installed, so the dialog based frontend cannot be used. at /usr/share/perl5/Debconf/FrontEnd/Dialog.pm line 78, <> line 1.)\n",
            "debconf: falling back to frontend: Readline\n",
            "debconf: unable to initialize frontend: Readline\n",
            "debconf: (This frontend requires a controlling tty.)\n",
            "debconf: falling back to frontend: Teletype\n",
            "dpkg-preconfigure: unable to re-open stdin: \n",
            "Selecting previously unselected package tesseract-ocr-fas.\n",
            "(Reading database ... 120921 files and directories currently installed.)\n",
            "Preparing to unpack .../tesseract-ocr-fas_1%3a4.00~git30-7274cfa-1.1_all.deb ...\n",
            "Unpacking tesseract-ocr-fas (1:4.00~git30-7274cfa-1.1) ...\n",
            "Setting up tesseract-ocr-fas (1:4.00~git30-7274cfa-1.1) ...\n"
          ]
        }
      ],
      "source": [
        "!sudo apt-get install tesseract-ocr-fas\n"
      ]
    },
    {
      "cell_type": "code",
      "execution_count": 3,
      "metadata": {
        "id": "BbnYz9ZojcBa"
      },
      "outputs": [],
      "source": [
        "import pytesseract\n",
        "import shutil\n",
        "import os\n",
        "import random\n",
        "try:\n",
        " from PIL import Image\n",
        "except ImportError:\n",
        " import Image"
      ]
    },
    {
      "cell_type": "code",
      "execution_count": 4,
      "metadata": {
        "colab": {
          "base_uri": "https://localhost:8080/"
        },
        "id": "t7--DG60lQOO",
        "outputId": "4fe2fb11-9e23-4b9c-93b0-0c41a6a6e566"
      },
      "outputs": [
        {
          "name": "stdout",
          "output_type": "stream",
          "text": [
            "Collecting python-telegram-bot==13.3\n",
            "  Downloading python_telegram_bot-13.3-py3-none-any.whl (436 kB)\n",
            "\u001b[2K     \u001b[90m━━━━━━━━━━━━━━━━━━━━━━━━━━━━━━━━━━━━━━━━\u001b[0m \u001b[32m436.3/436.3 kB\u001b[0m \u001b[31m7.8 MB/s\u001b[0m eta \u001b[36m0:00:00\u001b[0m\n",
            "\u001b[?25hRequirement already satisfied: certifi in /usr/local/lib/python3.10/dist-packages (from python-telegram-bot==13.3) (2023.7.22)\n",
            "Requirement already satisfied: tornado>=5.1 in /usr/local/lib/python3.10/dist-packages (from python-telegram-bot==13.3) (6.3.2)\n",
            "Collecting APScheduler==3.6.3 (from python-telegram-bot==13.3)\n",
            "  Downloading APScheduler-3.6.3-py2.py3-none-any.whl (58 kB)\n",
            "\u001b[2K     \u001b[90m━━━━━━━━━━━━━━━━━━━━━━━━━━━━━━━━━━━━━━━━\u001b[0m \u001b[32m58.9/58.9 kB\u001b[0m \u001b[31m8.2 MB/s\u001b[0m eta \u001b[36m0:00:00\u001b[0m\n",
            "\u001b[?25hRequirement already satisfied: pytz>=2018.6 in /usr/local/lib/python3.10/dist-packages (from python-telegram-bot==13.3) (2023.3.post1)\n",
            "Requirement already satisfied: setuptools>=0.7 in /usr/local/lib/python3.10/dist-packages (from APScheduler==3.6.3->python-telegram-bot==13.3) (67.7.2)\n",
            "Requirement already satisfied: six>=1.4.0 in /usr/local/lib/python3.10/dist-packages (from APScheduler==3.6.3->python-telegram-bot==13.3) (1.16.0)\n",
            "Requirement already satisfied: tzlocal>=1.2 in /usr/local/lib/python3.10/dist-packages (from APScheduler==3.6.3->python-telegram-bot==13.3) (5.2)\n",
            "Installing collected packages: APScheduler, python-telegram-bot\n",
            "Successfully installed APScheduler-3.6.3 python-telegram-bot-13.3\n",
            "Requirement already satisfied: pip in /usr/local/lib/python3.10/dist-packages (23.1.2)\n",
            "Requirement already satisfied: install in /usr/local/lib/python3.10/dist-packages (1.3.5)\n",
            "Collecting telethon\n",
            "  Downloading Telethon-1.32.0.tar.gz (563 kB)\n",
            "\u001b[2K     \u001b[90m━━━━━━━━━━━━━━━━━━━━━━━━━━━━━━━━━━━━━━━━\u001b[0m \u001b[32m563.8/563.8 kB\u001b[0m \u001b[31m6.7 MB/s\u001b[0m eta \u001b[36m0:00:00\u001b[0m\n",
            "\u001b[?25h  Installing build dependencies ... \u001b[?25l\u001b[?25hdone\n",
            "  Getting requirements to build wheel ... \u001b[?25l\u001b[?25hdone\n",
            "  Preparing metadata (pyproject.toml) ... \u001b[?25l\u001b[?25hdone\n",
            "Collecting pyaes (from telethon)\n",
            "  Downloading pyaes-1.6.1.tar.gz (28 kB)\n",
            "  Preparing metadata (setup.py) ... \u001b[?25l\u001b[?25hdone\n",
            "Requirement already satisfied: rsa in /usr/local/lib/python3.10/dist-packages (from telethon) (4.9)\n",
            "Requirement already satisfied: pyasn1>=0.1.3 in /usr/local/lib/python3.10/dist-packages (from rsa->telethon) (0.5.0)\n",
            "Building wheels for collected packages: telethon, pyaes\n",
            "  Building wheel for telethon (pyproject.toml) ... \u001b[?25l\u001b[?25hdone\n",
            "  Created wheel for telethon: filename=Telethon-1.32.0-py3-none-any.whl size=635342 sha256=b32104410d92e683037ba74506d6a0c93997b4411e869acd35a093aa6bd35e61\n",
            "  Stored in directory: /root/.cache/pip/wheels/bf/53/13/6e6a1d98fbcb84303a86251aace79b7df7d5efb1fa7d8de37d\n",
            "  Building wheel for pyaes (setup.py) ... \u001b[?25l\u001b[?25hdone\n",
            "  Created wheel for pyaes: filename=pyaes-1.6.1-py3-none-any.whl size=26347 sha256=b533d42bf12e588baf7dfdecbb84a10aec853002ab655b6851e5ced30a006e29\n",
            "  Stored in directory: /root/.cache/pip/wheels/d6/84/5f/ea6aef85a93c7e1922486369874f4740a5642d261e09c59140\n",
            "Successfully built telethon pyaes\n",
            "Installing collected packages: pyaes, telethon\n",
            "Successfully installed pyaes-1.6.1 telethon-1.32.0\n"
          ]
        }
      ],
      "source": [
        "!pip install python-telegram-bot==13.3\n",
        "!pip install pip install telethon"
      ]
    },
    {
      "cell_type": "code",
      "execution_count": 5,
      "metadata": {
        "colab": {
          "base_uri": "https://localhost:8080/"
        },
        "id": "GD7-eCrZprk0",
        "outputId": "d4e7fde4-1562-4965-f243-518ec9744571"
      },
      "outputs": [
        {
          "name": "stdout",
          "output_type": "stream",
          "text": [
            "Collecting pdf2image\n",
            "  Downloading pdf2image-1.16.3-py3-none-any.whl (11 kB)\n",
            "Requirement already satisfied: pillow in /usr/local/lib/python3.10/dist-packages (from pdf2image) (9.4.0)\n",
            "Installing collected packages: pdf2image\n",
            "Successfully installed pdf2image-1.16.3\n"
          ]
        }
      ],
      "source": [
        "!pip install pdf2image"
      ]
    },
    {
      "cell_type": "code",
      "execution_count": 1,
      "metadata": {
        "id": "QhLICYNWpZtT"
      },
      "outputs": [],
      "source": [
        "\n",
        "# )))))))))))))))))))))))))))))))))))))))))))))\n",
        "import os\n",
        "import re\n",
        "\n",
        "import cv2\n",
        "import numpy as np\n",
        "import pytesseract\n",
        "from PIL import Image\n",
        "\n",
        "\n",
        "def process_image(img_path):\n",
        "    temp_filename = resize_image(img_path)\n",
        "    img = remove_noise_and_smooth(temp_filename)\n",
        "    img = fix_rotation(img)\n",
        "    # img = remove_lines(img)\n",
        "\n",
        "    return img\n",
        "\n",
        "\n",
        "def resize_image(img_path):\n",
        "    try:\n",
        "        img = Image.open(img_path)\n",
        "        length_x, width_y = img.size\n",
        "        factor = max(1, int(1800 / length_x))  # 1800 for tesserect\n",
        "        size = factor * length_x, factor * width_y\n",
        "        im_resized = img.resize(size, Image.ANTIALIAS)\n",
        "\n",
        "        import tempfile\n",
        "        temp_file = tempfile.NamedTemporaryFile(delete=False, suffix=\".TIFF\")\n",
        "        temp_filename = temp_file.name\n",
        "        im_resized.save(temp_filename, dpi=(300, 300))  # best for OCR\n",
        "\n",
        "        return temp_filename\n",
        "    except IOError:\n",
        "        print(\"Error while reading the file.\")\n",
        "\n",
        "\n",
        "def remove_noise_and_smooth(img_path):\n",
        "    try:\n",
        "        img = cv2.imread(img_path)\n",
        "        img = cv2.cvtColor(img, cv2.COLOR_BGR2GRAY)\n",
        "\n",
        "        # Applying erosion and dilation to remove the noise\n",
        "        # img = cv2.bitwise_not(img)\n",
        "        # kernel = np.ones((5, 5), np.uint8)\n",
        "        # img = cv2.erode(img, kernel, iterations=1)\n",
        "        # img = cv2.dilate(img, kernel, iterations=1)\n",
        "        # show_wait_destroy('dilate', img)\n",
        "        # img = cv2.bitwise_not(img)\n",
        "\n",
        "        kernel = np.ones((1, 1), np.uint8)\n",
        "        opening = cv2.morphologyEx(img, cv2.MORPH_OPEN, kernel)\n",
        "        closing = cv2.morphologyEx(opening, cv2.MORPH_CLOSE, kernel)\n",
        "        img = cv2.bitwise_or(img, closing)\n",
        "        show_wait_destroy('bitwise_or', img)\n",
        "\n",
        "        # img = apply_threshold(img, 1)\n",
        "        # show_wait_destroy('threshold', img)\n",
        "        # img = smooth_image(img)\n",
        "\n",
        "        return img\n",
        "    except IOError:\n",
        "        print(\"Error while reading the file.\")\n",
        "\n",
        "\n",
        "def apply_threshold(img, argument):\n",
        "    switcher = {\n",
        "        1: cv2.threshold(cv2.GaussianBlur(img, (9, 9), 0), 0, 255, cv2.THRESH_BINARY + cv2.THRESH_OTSU)[1],\n",
        "        2: cv2.threshold(cv2.GaussianBlur(img, (7, 7), 0), 0, 255, cv2.THRESH_BINARY + cv2.THRESH_OTSU)[1],\n",
        "        3: cv2.threshold(cv2.GaussianBlur(img, (5, 5), 0), 0, 255, cv2.THRESH_BINARY + cv2.THRESH_OTSU)[1],\n",
        "        4: cv2.threshold(cv2.medianBlur(img, 5), 0, 255, cv2.THRESH_BINARY + cv2.THRESH_OTSU)[1],\n",
        "        5: cv2.threshold(cv2.medianBlur(img, 3), 0, 255, cv2.THRESH_BINARY + cv2.THRESH_OTSU)[1],\n",
        "        6: cv2.adaptiveThreshold(cv2.GaussianBlur(img, (5, 5), 0), 255, cv2.ADAPTIVE_THRESH_GAUSSIAN_C,\n",
        "                                 cv2.THRESH_BINARY, 31, 2),\n",
        "        7: cv2.adaptiveThreshold(cv2.medianBlur(img, 3), 255, cv2.ADAPTIVE_THRESH_GAUSSIAN_C, cv2.THRESH_BINARY, 31,\n",
        "                                 2),\n",
        "    }\n",
        "    return switcher.get(argument, \"Invalid method\")\n",
        "\n",
        "\n",
        "def smooth_image(img):\n",
        "    # Apply blur to smooth out the edges\n",
        "    blur_img = cv2.GaussianBlur(img, (1, 1), 0)\n",
        "    show_wait_destroy('blur', blur_img)\n",
        "\n",
        "    return blur_img\n",
        "\n",
        "\n",
        "def fix_rotation(img):\n",
        "    rotated_img = img\n",
        "    # osd: orientation and script detection\n",
        "    tess_data = pytesseract.image_to_osd(img, nice=1)\n",
        "    angle = int(re.search(r\"(?<=Rotate: )\\d+\", tess_data).group(0))\n",
        "    print(\"angle: \" + str(angle))\n",
        "\n",
        "    if angle != 0 and angle != 360:\n",
        "        (h, w) = img.shape[:2]\n",
        "        center = (w / 2, h / 2)\n",
        "\n",
        "        # Perform the rotation\n",
        "        rotation_mat = cv2.getRotationMatrix2D(center, -angle, 1.0)\n",
        "\n",
        "        # Fixing the image cut-off by calculating the new center\n",
        "        abs_cos = abs(rotation_mat[0, 0])\n",
        "        abs_sin = abs(rotation_mat[0, 1])\n",
        "\n",
        "        bound_w = int(h * abs_sin + w * abs_cos)\n",
        "        bound_h = int(h * abs_cos + w * abs_sin)\n",
        "\n",
        "        rotation_mat[0, 2] += bound_w / 2 - center[0]\n",
        "        rotation_mat[1, 2] += bound_h / 2 - center[1]\n",
        "\n",
        "        rotated_img = cv2.warpAffine(img, rotation_mat, (bound_w, bound_h))\n",
        "\n",
        "    return rotated_img\n",
        "\n",
        "\n",
        "def remove_lines(img):\n",
        "    # Remove lines to improve accuracy of tabular documents\n",
        "    # https://stackoverflow.com/questions/33949831/whats-the-way-to-remove-all-lines-and-borders-in-imagekeep-texts-programmatic?answertab=votes#tab-top\n",
        "    result = img.copy()\n",
        "    thresh = cv2.threshold(img, 0, 255, cv2.THRESH_BINARY_INV + cv2.THRESH_OTSU)[1]\n",
        "\n",
        "    # Remove horizontal lines\n",
        "    horizontal_kernel = cv2.getStructuringElement(cv2.MORPH_RECT, (40, 1))\n",
        "    remove_horizontal = cv2.morphologyEx(thresh, cv2.MORPH_OPEN, horizontal_kernel, iterations=2)\n",
        "    cnts = cv2.findContours(remove_horizontal, cv2.RETR_EXTERNAL, cv2.CHAIN_APPROX_SIMPLE)\n",
        "    cnts = cnts[0] if len(cnts) == 2 else cnts[1]\n",
        "    for c in cnts:\n",
        "        cv2.drawContours(result, [c], -1, (255, 255, 255), 5)\n",
        "\n",
        "    # Remove vertical lines\n",
        "    vertical_kernel = cv2.getStructuringElement(cv2.MORPH_RECT, (1, 40))\n",
        "    remove_vertical = cv2.morphologyEx(thresh, cv2.MORPH_OPEN, vertical_kernel, iterations=2)\n",
        "    cnts = cv2.findContours(remove_vertical, cv2.RETR_EXTERNAL, cv2.CHAIN_APPROX_SIMPLE)\n",
        "    cnts = cnts[0] if len(cnts) == 2 else cnts[1]\n",
        "    for c in cnts:\n",
        "        cv2.drawContours(result, [c], -1, (255, 255, 255), 5)\n",
        "\n",
        "    show_wait_destroy('nolines', result)\n",
        "\n",
        "    return result\n",
        "\n",
        "\n",
        "def show_wait_destroy(winname, img, active=False):\n",
        "    if active:\n",
        "        cv2.imshow(winname, cv2.resize(img, (960, 540)))\n",
        "        cv2.moveWindow(winname, 500, 0)\n",
        "        cv2.waitKey(0)\n",
        "        cv2.destroyWindow(winname)\n",
        "\n",
        "\n",
        "def save_image(img, img_path, method, active=False):\n",
        "    if active:\n",
        "        # Save the filtered image in the output directory\n",
        "        filename = os.path.basename(img_path).split('.')[0]\n",
        "        filename = filename.split()[0]\n",
        "        save_path = os.path.join(\"../output\", filename + \"_filter_\" + method + \".jpg\")\n",
        "        cv2.imwrite(save_path, img)"
      ]
    },
    {
      "cell_type": "code",
      "execution_count": null,
      "metadata": {
        "id": "ZuRJSs1ppaGV"
      },
      "outputs": [],
      "source": []
    },
    {
      "cell_type": "code",
      "execution_count": 2,
      "metadata": {
        "colab": {
          "base_uri": "https://localhost:8080/"
        },
        "id": "FNXnz-rak2sy",
        "outputId": "6109e4e0-1aee-420e-827f-59530d40437a"
      },
      "outputs": [
        {
          "name": "stderr",
          "output_type": "stream",
          "text": [
            "<ipython-input-1-f4f2a156acf5>:25: DeprecationWarning: ANTIALIAS is deprecated and will be removed in Pillow 10 (2023-07-01). Use LANCZOS or Resampling.LANCZOS instead.\n",
            "  im_resized = img.resize(size, Image.ANTIALIAS)\n"
          ]
        },
        {
          "name": "stdout",
          "output_type": "stream",
          "text": [
            "angle: 0\n",
            "موتور جستجوی فونت یاب در تاریخ ۱/۱/۹۱ پا به دنیای مجازی اینترنت گذاشت و با هدف رشد و ارتقاع سطح\n",
            "گرافیک کشور فعالیت خود را شروع کرد .\n",
            "در فونت یاب می توانید به صورت تکچین فونت ها را مشاهده و دریافت نمایید . در این روش با توجه به این\n",
            "نکات که ۹۰.۰ فونت های پکیچ شده بکار نمی آید و ممکن است بیشتر فونت ها را شما قبلا داشته باشید\n",
            "ارزش استفاده دارد .\n"
          ]
        }
      ],
      "source": [
        "from telegram.ext import Updater, CommandHandler, MessageHandler, Filters\n",
        "\n",
        "\n",
        "def start(update, context):\n",
        "    context.bot.send_message(chat_id=update.effective_chat.id, text=\"Send me a photo of Persian text.\")\n",
        "\n",
        "def process_photo(update, context):\n",
        "    photo_file = update.message.photo[-1].get_file()\n",
        "    photo_file.download('photo.jpg')\n",
        "    img = process_image('photo.jpg')\n",
        "    config = ''\n",
        "    text = str(pytesseract.image_to_string(img, lang='eng+fas', config=config))\n",
        "    text = os.linesep.join([s for s in text.splitlines() if s.strip()])\n",
        "\n",
        "    extracted_text = text\n",
        "    print(extracted_text)\n",
        "    context.bot.send_message(chat_id=update.effective_chat.id, text=extracted_text)\n",
        "\n",
        "def main():\n",
        "    updater = Updater(token='6382307368:AAHR2MWP1cZLFORkOZ0fOWxKwLQ-RP22AAs', use_context=True)\n",
        "    dp = updater.dispatcher\n",
        "    dp.add_handler(CommandHandler('start', start))\n",
        "    dp.add_handler(MessageHandler(Filters.photo, process_photo))\n",
        "    updater.start_polling()\n",
        "    updater.idle()\n",
        "\n",
        "if __name__ == '__main__':\n",
        "    main()"
      ]
    },
    {
      "cell_type": "code",
      "execution_count": null,
      "metadata": {
        "id": "P-cTCVHCldkZ"
      },
      "outputs": [],
      "source": []
    }
  ],
  "metadata": {
    "colab": {
      "provenance": []
    },
    "kernelspec": {
      "display_name": "Python 3",
      "name": "python3"
    },
    "language_info": {
      "name": "python"
    }
  },
  "nbformat": 4,
  "nbformat_minor": 0
}
